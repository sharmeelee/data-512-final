{
 "cells": [
  {
   "cell_type": "markdown",
   "metadata": {},
   "source": [
    "# What makes Youtube videos trend and what does that reveal about people?"
   ]
  },
  {
   "cell_type": "markdown",
   "metadata": {},
   "source": [
    "## <center> A4: Final Project Proposal </center>\n",
    " <center> Sharmeelee Bijlani </center>\n",
    "  <center> DATA 512 </center>\n",
    " <center> November 5, 2020 </center>"
   ]
  },
  {
   "cell_type": "markdown",
   "metadata": {},
   "source": [
    "### Motivation and problem statement\n",
    "The purpose of this data analysis is to understand what makes Youtube videos trend. Is it the content, the uploader or is it a snowball effect of the popularity of the video itself? With online content gaining an increasing share of the human experience, I want to understand what makes content popular. Another rising career for people is being online influencers, many of whom are found on Youtube. What content empowers people to influence other people. Also I would like to understand if negative popularity is as good as positive popularity in the online content world where content is essentially free or paid for by human attention instead of money. "
   ]
  },
  {
   "cell_type": "markdown",
   "metadata": {},
   "source": [
    "### Data selected for analysis\n",
    "\n",
    "I plan to use the Youtube trend statistics dataset from Kaggle, a site that hosts various datasets and data science competitions for students and enthusiasts. The data I am using can be found at [this link](https://www.kaggle.com/datasnaek/youtube-new). This dataset includes many interesting features such as the number of views, number of likes, number of dislikes, and tags. I particularly liked this dataset since it not only provides the engagement metrics for top trending videos but also adds a geographic dimenstion of country for additional analysis. This dataset is CCO licensed for public domain. The data is hosted on Kaggle which is meant for people to use for educational as well has hobbyist purposes, and the uploader also shares reproducibilty information on how the data was scraped in his [public repository](https://github.com/mitchelljy/Trending-YouTube-Scraper). The data was scraped using the publicly avaiable Youtube API. Although videos posted on Youtube are public and not protected by privacy unless they voilate copyright issues, there is no informed consent for uploaders to have thier names used in data analysis projects. The passive vs. informed consent is an ethical issue in this analysis. "
   ]
  },
  {
   "cell_type": "markdown",
   "metadata": {},
   "source": [
    "### Unknowns and dependencies\n",
    "There are several unknowns in this dataset such as whether I will be able to draw any insightful conclusions from this data. Also will the conclusions drawn from the data be valid on new similar data or would they be specific only to this data, which is highly curated. "
   ]
  },
  {
   "cell_type": "markdown",
   "metadata": {},
   "source": [
    "### Background and related work\n",
    "As a start to my research into this topic, I went to the Youtube support site to understand the purpose of the concept of trending videos from the perspective of Youtube. In thier own words, \"Trending aims to surface videos that a wide range of viewers would find interesting\" [[1]](https://support.google.com/youtube/answer/7239739?hl=en#:~:text=Trending%20aims%20to%20surface%20videos,surprising%2C%20like%20a%20viral%20video.&text=The%20list%20of%20trending%20videos%20is%20updated%20roughly%20every%2015%20minutes). Although Youtube does not define the term interesting, it does clarify that trending is based on view count. Due to the lack of elaboration on interesting, this leads me to ask the question of whether interesting translates into something that is popular in terms of views, likes, dislikes, or a combination of these. Youtube also claims that they make sure videos with mature or inappropriate content do not make it to the top trending list. I would like to explore whether this is really true by exploring the videos with many dislikes and what makes them trend. \n",
    "\n",
    "While there are two types of trending videos, those from popular channels and those which are viral, is one more likely to trend than the other? I came across an article on themanifest.com that shares tips and suggestions on how to make a Youtube video trend. It claims that the Youtube algorithm for trending vidoes takes into account: watch time, video length and channel consistency. For channel consistency, the hypothesis is that \"YouTube wants to promote channels more than individual videos\" [[2]](https://themanifest.com/digital-marketing/resources/tips-to-make-video-trending-youtube). Since my dataset has information about channel and uploader, I want to assess the validity of this hypothesis and explore whether popularity is associated with channels or specific videos. \n"
   ]
  },
  {
   "cell_type": "markdown",
   "metadata": {},
   "source": [
    "### Research questions and hypotheses\n",
    "1. Given the notion that any publicity is good publicity, are number of likes or disikes correlated to number of views?\n",
    "2. Do videos with high positive or negative polarization have higher number of views?\n",
    "3. Does negativity gain more viewer traction than positivity? Hypothesis: Negative polarity videos have more views. \n",
    "4. Can videos with negative or inappropriate content trend? What makes negative videos trend? \n",
    "5. What themes of videos have the most viewership?\n",
    "6. Is popularity attributed to specific videos or channels/uploaders?"
   ]
  },
  {
   "cell_type": "markdown",
   "metadata": {},
   "source": [
    "### Methodology\n",
    "To assess the first three research questions, I plan to start with exploratory data analysis to understand the associations between likes, dislikes and view count. This will be followed by statistical analysis of the hypothesis which aim to accept or reject the validity of the associations. For the second set of research questions on negative content, I plan to do additional exploratory data analysis on videos with high number of dislikes. First I need to find the threshold of dislikes that makes a video negative vs. nuetral. Then, perform content analysis on the negative videos. I will create a word map of titles and descriptions to find common themes in trending videos. Based on the gained insights. For the last research question, I will assess the association of videos from popular channels with view count against individual videos with view count. "
   ]
  }
 ],
 "metadata": {
  "kernelspec": {
   "display_name": "Python 3",
   "language": "python",
   "name": "python3"
  },
  "language_info": {
   "codemirror_mode": {
    "name": "ipython",
    "version": 3
   },
   "file_extension": ".py",
   "mimetype": "text/x-python",
   "name": "python",
   "nbconvert_exporter": "python",
   "pygments_lexer": "ipython3",
   "version": "3.8.2"
  }
 },
 "nbformat": 4,
 "nbformat_minor": 4
}
