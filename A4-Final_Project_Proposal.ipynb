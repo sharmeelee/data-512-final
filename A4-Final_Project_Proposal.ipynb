{
 "cells": [
  {
   "cell_type": "markdown",
   "metadata": {},
   "source": [
    "# What do trending Youtube videos reveal about people?"
   ]
  },
  {
   "cell_type": "markdown",
   "metadata": {},
   "source": [
    "## <center> A4: Final Project Proposal </center>\n",
    " <center> Sharmeelee Bijlani </center>\n",
    "  <center> DATA 512 </center>\n",
    " <center> November 5, 2020 </center>"
   ]
  },
  {
   "cell_type": "markdown",
   "metadata": {},
   "source": [
    "### Motivation and problem statement\n",
    "The purpose of this data analysis is to understand what makes Youtube videos trend. Is it the content, the uploader or is it a snowball effect of the popularity of the video itself? With online content gaining an increasing share of the human experience, I want to understand what makes content popular. Another rising career for people is being online influencers, many of whom are found on Youtube. What content empowers people to influence other people. Also I would like to understand if negative popularity is as good as positive popularity in the online content world where content is essentially free or paid for by human attention instead of money. "
   ]
  },
  {
   "cell_type": "markdown",
   "metadata": {},
   "source": [
    "### Data selected for analysis\n",
    "\n",
    "I plan to use the Youtube trend statistics dataset from Kaggle, a site that hosts various datasets and data science competitions for students and enthusiasts. The data I am using can be found at [this link](https://www.kaggle.com/sheenabatra/facebook-data). This dataset includes many interesting features such as the age of users, number of friends, number of friends initiated, and number of likes. I particularly liked this dataset since it not only provides the engagement metrics for top trending videos but also adds a geographic dimenstion of country for additional analysis. This dataset is CCO licensed for public domain. The data is hosted on Kaggle which is meant for people to use for educational as well has hobbyist purposes, and the uploader also shares reproducibilty information on how the data was scraped in his [public repository](https://github.com/mitchelljy/Trending-YouTube-Scraper). The data was scraped using the publicly avaiable Youtube API. Although videos posted on Youtube are public and not protected by privacy unless they voilate copyright issues, there is no informed consent for uploaders to have thier names used in data analysis projects. The passive vs. informed consent is an ethical issue in this analysis. "
   ]
  },
  {
   "cell_type": "markdown",
   "metadata": {},
   "source": [
    "### Unknowns and dependencies\n",
    "There are several unknowns in this dataset such as whether I will be able to draw any insightful conclusions from this data. Also will the conclusions drawn from the data be valid on new similar data or would they be specific only to this data, which is highly curated. "
   ]
  }
 ],
 "metadata": {
  "kernelspec": {
   "display_name": "Python 3",
   "language": "python",
   "name": "python3"
  },
  "language_info": {
   "codemirror_mode": {
    "name": "ipython",
    "version": 3
   },
   "file_extension": ".py",
   "mimetype": "text/x-python",
   "name": "python",
   "nbconvert_exporter": "python",
   "pygments_lexer": "ipython3",
   "version": "3.8.2"
  }
 },
 "nbformat": 4,
 "nbformat_minor": 4
}
